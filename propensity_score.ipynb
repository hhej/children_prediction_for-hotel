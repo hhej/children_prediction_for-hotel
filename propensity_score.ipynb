{
 "cells": [
  {
   "cell_type": "markdown",
   "id": "8b13f0d0",
   "metadata": {},
   "source": [
    "## Import & Explore"
   ]
  },
  {
   "cell_type": "code",
   "execution_count": 1,
   "id": "62ed5351",
   "metadata": {},
   "outputs": [],
   "source": [
    "import pandas as pd\n",
    "import numpy as np\n",
    "import seaborn as sns\n",
    "import matplotlib.pyplot as plt\n",
    "from matplotlib.pyplot import figure\n",
    "%matplotlib inline\n",
    "\n",
    "from imblearn.over_sampling import SMOTE\n",
    "from sklearn import metrics\n",
    "from sklearn.model_selection import train_test_split\n",
    "from sklearn.model_selection import KFold\n",
    "from sklearn.preprocessing import StandardScaler\n",
    "from sklearn.model_selection import cross_val_score\n",
    "from sklearn.linear_model import LogisticRegression as lr"
   ]
  },
  {
   "cell_type": "code",
   "execution_count": 2,
   "id": "bf87fbab",
   "metadata": {},
   "outputs": [],
   "source": [
    "df = pd.read_csv('hotels_mod.csv')"
   ]
  },
  {
   "cell_type": "code",
   "execution_count": 3,
   "id": "07cd8c8b",
   "metadata": {},
   "outputs": [
    {
     "data": {
      "text/plain": [
       "(50000, 23)"
      ]
     },
     "execution_count": 3,
     "metadata": {},
     "output_type": "execute_result"
    }
   ],
   "source": [
    "df.shape"
   ]
  },
  {
   "cell_type": "code",
   "execution_count": 4,
   "id": "d7ab21be",
   "metadata": {},
   "outputs": [
    {
     "data": {
      "text/html": [
       "<div>\n",
       "<style scoped>\n",
       "    .dataframe tbody tr th:only-of-type {\n",
       "        vertical-align: middle;\n",
       "    }\n",
       "\n",
       "    .dataframe tbody tr th {\n",
       "        vertical-align: top;\n",
       "    }\n",
       "\n",
       "    .dataframe thead th {\n",
       "        text-align: right;\n",
       "    }\n",
       "</style>\n",
       "<table border=\"1\" class=\"dataframe\">\n",
       "  <thead>\n",
       "    <tr style=\"text-align: right;\">\n",
       "      <th></th>\n",
       "      <th>hotel</th>\n",
       "      <th>lead_time</th>\n",
       "      <th>stays_in_weekend_nights</th>\n",
       "      <th>stays_in_week_nights</th>\n",
       "      <th>adults</th>\n",
       "      <th>children</th>\n",
       "      <th>meal</th>\n",
       "      <th>country</th>\n",
       "      <th>market_segment</th>\n",
       "      <th>distribution_channel</th>\n",
       "      <th>...</th>\n",
       "      <th>reserved_room_type</th>\n",
       "      <th>assigned_room_type</th>\n",
       "      <th>booking_changes</th>\n",
       "      <th>deposit_type</th>\n",
       "      <th>days_in_waiting_list</th>\n",
       "      <th>customer_type</th>\n",
       "      <th>average_daily_rate</th>\n",
       "      <th>required_car_parking_spaces</th>\n",
       "      <th>total_of_special_requests</th>\n",
       "      <th>arrival_date</th>\n",
       "    </tr>\n",
       "  </thead>\n",
       "  <tbody>\n",
       "    <tr>\n",
       "      <th>0</th>\n",
       "      <td>City_Hotel</td>\n",
       "      <td>217</td>\n",
       "      <td>1</td>\n",
       "      <td>3</td>\n",
       "      <td>2</td>\n",
       "      <td>none</td>\n",
       "      <td>BB</td>\n",
       "      <td>DEU</td>\n",
       "      <td>Offline_TA/TO</td>\n",
       "      <td>TA/TO</td>\n",
       "      <td>...</td>\n",
       "      <td>A</td>\n",
       "      <td>A</td>\n",
       "      <td>0</td>\n",
       "      <td>NaN</td>\n",
       "      <td>0</td>\n",
       "      <td>Transient-Party</td>\n",
       "      <td>80.75</td>\n",
       "      <td>none</td>\n",
       "      <td>NaN</td>\n",
       "      <td>1/9/2016</td>\n",
       "    </tr>\n",
       "    <tr>\n",
       "      <th>1</th>\n",
       "      <td>City_Hotel</td>\n",
       "      <td>2</td>\n",
       "      <td>0</td>\n",
       "      <td>1</td>\n",
       "      <td>2</td>\n",
       "      <td>none</td>\n",
       "      <td>BB</td>\n",
       "      <td>PRT</td>\n",
       "      <td>Direct</td>\n",
       "      <td>Direct</td>\n",
       "      <td>...</td>\n",
       "      <td>D</td>\n",
       "      <td>K</td>\n",
       "      <td>0</td>\n",
       "      <td>NaN</td>\n",
       "      <td>0</td>\n",
       "      <td>Transient</td>\n",
       "      <td>170.00</td>\n",
       "      <td>none</td>\n",
       "      <td>3.0</td>\n",
       "      <td>25/8/2017</td>\n",
       "    </tr>\n",
       "    <tr>\n",
       "      <th>2</th>\n",
       "      <td>Resort_Hotel</td>\n",
       "      <td>95</td>\n",
       "      <td>2</td>\n",
       "      <td>5</td>\n",
       "      <td>2</td>\n",
       "      <td>none</td>\n",
       "      <td>BB</td>\n",
       "      <td>GBR</td>\n",
       "      <td>Online_TA</td>\n",
       "      <td>TA/TO</td>\n",
       "      <td>...</td>\n",
       "      <td>A</td>\n",
       "      <td>A</td>\n",
       "      <td>2</td>\n",
       "      <td>No_Deposit</td>\n",
       "      <td>0</td>\n",
       "      <td>Transient</td>\n",
       "      <td>8.00</td>\n",
       "      <td>none</td>\n",
       "      <td>2.0</td>\n",
       "      <td>19/11/2016</td>\n",
       "    </tr>\n",
       "    <tr>\n",
       "      <th>3</th>\n",
       "      <td>Resort_Hotel</td>\n",
       "      <td>143</td>\n",
       "      <td>2</td>\n",
       "      <td>6</td>\n",
       "      <td>2</td>\n",
       "      <td>none</td>\n",
       "      <td>HB</td>\n",
       "      <td>ROU</td>\n",
       "      <td>Online_TA</td>\n",
       "      <td>TA/TO</td>\n",
       "      <td>...</td>\n",
       "      <td>A</td>\n",
       "      <td>A</td>\n",
       "      <td>0</td>\n",
       "      <td>No_Deposit</td>\n",
       "      <td>0</td>\n",
       "      <td>Transient</td>\n",
       "      <td>81.00</td>\n",
       "      <td>none</td>\n",
       "      <td>NaN</td>\n",
       "      <td>26/4/2016</td>\n",
       "    </tr>\n",
       "    <tr>\n",
       "      <th>4</th>\n",
       "      <td>Resort_Hotel</td>\n",
       "      <td>136</td>\n",
       "      <td>1</td>\n",
       "      <td>4</td>\n",
       "      <td>2</td>\n",
       "      <td>none</td>\n",
       "      <td>HB</td>\n",
       "      <td>PRT</td>\n",
       "      <td>Direct</td>\n",
       "      <td>Direct</td>\n",
       "      <td>...</td>\n",
       "      <td>F</td>\n",
       "      <td>F</td>\n",
       "      <td>0</td>\n",
       "      <td>No_Deposit</td>\n",
       "      <td>0</td>\n",
       "      <td>Transient</td>\n",
       "      <td>157.60</td>\n",
       "      <td>none</td>\n",
       "      <td>4.0</td>\n",
       "      <td>28/12/2016</td>\n",
       "    </tr>\n",
       "  </tbody>\n",
       "</table>\n",
       "<p>5 rows × 23 columns</p>\n",
       "</div>"
      ],
      "text/plain": [
       "          hotel  lead_time  stays_in_weekend_nights  stays_in_week_nights  \\\n",
       "0    City_Hotel        217                        1                     3   \n",
       "1    City_Hotel          2                        0                     1   \n",
       "2  Resort_Hotel         95                        2                     5   \n",
       "3  Resort_Hotel        143                        2                     6   \n",
       "4  Resort_Hotel        136                        1                     4   \n",
       "\n",
       "   adults children meal country market_segment distribution_channel  ...  \\\n",
       "0       2     none   BB     DEU  Offline_TA/TO                TA/TO  ...   \n",
       "1       2     none   BB     PRT         Direct               Direct  ...   \n",
       "2       2     none   BB     GBR      Online_TA                TA/TO  ...   \n",
       "3       2     none   HB     ROU      Online_TA                TA/TO  ...   \n",
       "4       2     none   HB     PRT         Direct               Direct  ...   \n",
       "\n",
       "   reserved_room_type  assigned_room_type  booking_changes deposit_type  \\\n",
       "0                   A                   A                0          NaN   \n",
       "1                   D                   K                0          NaN   \n",
       "2                   A                   A                2   No_Deposit   \n",
       "3                   A                   A                0   No_Deposit   \n",
       "4                   F                   F                0   No_Deposit   \n",
       "\n",
       "  days_in_waiting_list    customer_type average_daily_rate  \\\n",
       "0                    0  Transient-Party              80.75   \n",
       "1                    0        Transient             170.00   \n",
       "2                    0        Transient               8.00   \n",
       "3                    0        Transient              81.00   \n",
       "4                    0        Transient             157.60   \n",
       "\n",
       "   required_car_parking_spaces total_of_special_requests  arrival_date  \n",
       "0                         none                       NaN      1/9/2016  \n",
       "1                         none                       3.0     25/8/2017  \n",
       "2                         none                       2.0    19/11/2016  \n",
       "3                         none                       NaN     26/4/2016  \n",
       "4                         none                       4.0    28/12/2016  \n",
       "\n",
       "[5 rows x 23 columns]"
      ]
     },
     "execution_count": 4,
     "metadata": {},
     "output_type": "execute_result"
    }
   ],
   "source": [
    "df.head()"
   ]
  },
  {
   "cell_type": "code",
   "execution_count": 5,
   "id": "5a10094f",
   "metadata": {},
   "outputs": [
    {
     "data": {
      "text/plain": [
       "Index(['hotel', 'lead_time', 'stays_in_weekend_nights', 'stays_in_week_nights',\n",
       "       'adults', 'children', 'meal', 'country', 'market_segment',\n",
       "       'distribution_channel', 'is_repeated_guest', 'previous_cancellations',\n",
       "       'previous_bookings_not_canceled', 'reserved_room_type',\n",
       "       'assigned_room_type', 'booking_changes', 'deposit_type',\n",
       "       'days_in_waiting_list', 'customer_type', 'average_daily_rate',\n",
       "       'required_car_parking_spaces', 'total_of_special_requests',\n",
       "       'arrival_date'],\n",
       "      dtype='object')"
      ]
     },
     "execution_count": 5,
     "metadata": {},
     "output_type": "execute_result"
    }
   ],
   "source": [
    "df.columns"
   ]
  },
  {
   "cell_type": "code",
   "execution_count": 6,
   "id": "fdcd5826",
   "metadata": {},
   "outputs": [
    {
     "data": {
      "text/plain": [
       "hotel                                 0\n",
       "lead_time                             0\n",
       "stays_in_weekend_nights               0\n",
       "stays_in_week_nights                  0\n",
       "adults                                0\n",
       "children                              0\n",
       "meal                                  0\n",
       "country                             289\n",
       "market_segment                        0\n",
       "distribution_channel                  0\n",
       "is_repeated_guest                     0\n",
       "previous_cancellations                0\n",
       "previous_bookings_not_canceled        0\n",
       "reserved_room_type                    0\n",
       "assigned_room_type                    0\n",
       "booking_changes                       0\n",
       "deposit_type                      10000\n",
       "days_in_waiting_list                  0\n",
       "customer_type                         0\n",
       "average_daily_rate                    0\n",
       "required_car_parking_spaces           0\n",
       "total_of_special_requests         14000\n",
       "arrival_date                          0\n",
       "dtype: int64"
      ]
     },
     "execution_count": 6,
     "metadata": {},
     "output_type": "execute_result"
    }
   ],
   "source": [
    "df.isna().sum()"
   ]
  },
  {
   "cell_type": "code",
   "execution_count": 7,
   "id": "38b4e5a9",
   "metadata": {},
   "outputs": [
    {
     "data": {
      "text/plain": [
       "4142"
      ]
     },
     "execution_count": 7,
     "metadata": {},
     "output_type": "execute_result"
    }
   ],
   "source": [
    "df.duplicated().sum()"
   ]
  },
  {
   "cell_type": "code",
   "execution_count": 8,
   "id": "ed9528eb",
   "metadata": {},
   "outputs": [
    {
     "data": {
      "text/plain": [
       "0.0    17633\n",
       "1.0    12393\n",
       "2.0     4803\n",
       "3.0      989\n",
       "4.0      166\n",
       "5.0       16\n",
       "Name: total_of_special_requests, dtype: int64"
      ]
     },
     "execution_count": 8,
     "metadata": {},
     "output_type": "execute_result"
    }
   ],
   "source": [
    "df.total_of_special_requests.value_counts()"
   ]
  },
  {
   "cell_type": "code",
   "execution_count": 9,
   "id": "d909879d",
   "metadata": {},
   "outputs": [
    {
     "data": {
      "text/plain": [
       "No_Deposit    39875\n",
       "Refundable       69\n",
       "Non_Refund       56\n",
       "Name: deposit_type, dtype: int64"
      ]
     },
     "execution_count": 9,
     "metadata": {},
     "output_type": "execute_result"
    }
   ],
   "source": [
    "df.deposit_type.value_counts()"
   ]
  },
  {
   "cell_type": "code",
   "execution_count": 10,
   "id": "80cc7739",
   "metadata": {},
   "outputs": [
    {
     "data": {
      "text/plain": [
       "none        45962\n",
       "children     4038\n",
       "Name: children, dtype: int64"
      ]
     },
     "execution_count": 10,
     "metadata": {},
     "output_type": "execute_result"
    }
   ],
   "source": [
    "df.children.value_counts()"
   ]
  },
  {
   "cell_type": "code",
   "execution_count": 11,
   "id": "0e750dca",
   "metadata": {},
   "outputs": [
    {
     "data": {
      "text/plain": [
       "none       45019\n",
       "parking     4981\n",
       "Name: required_car_parking_spaces, dtype: int64"
      ]
     },
     "execution_count": 11,
     "metadata": {},
     "output_type": "execute_result"
    }
   ],
   "source": [
    "df.required_car_parking_spaces.value_counts()"
   ]
  },
  {
   "cell_type": "code",
   "execution_count": 12,
   "id": "c1ed6627",
   "metadata": {},
   "outputs": [
    {
     "data": {
      "text/plain": [
       "hotel                              object\n",
       "lead_time                           int64\n",
       "stays_in_weekend_nights             int64\n",
       "stays_in_week_nights                int64\n",
       "adults                              int64\n",
       "children                           object\n",
       "meal                               object\n",
       "country                            object\n",
       "market_segment                     object\n",
       "distribution_channel               object\n",
       "is_repeated_guest                   int64\n",
       "previous_cancellations              int64\n",
       "previous_bookings_not_canceled      int64\n",
       "reserved_room_type                 object\n",
       "assigned_room_type                 object\n",
       "booking_changes                     int64\n",
       "deposit_type                       object\n",
       "days_in_waiting_list                int64\n",
       "customer_type                      object\n",
       "average_daily_rate                float64\n",
       "required_car_parking_spaces        object\n",
       "total_of_special_requests         float64\n",
       "arrival_date                       object\n",
       "dtype: object"
      ]
     },
     "execution_count": 12,
     "metadata": {},
     "output_type": "execute_result"
    }
   ],
   "source": [
    "df.dtypes"
   ]
  },
  {
   "cell_type": "markdown",
   "id": "23364f1b",
   "metadata": {},
   "source": [
    "## Data Preparation"
   ]
  },
  {
   "cell_type": "code",
   "execution_count": 13,
   "id": "8685a3c9",
   "metadata": {},
   "outputs": [],
   "source": [
    "def preprocessing(df, obj_list):\n",
    "    \n",
    "    df = df.dropna(subset=['country'])\n",
    "    df = df.drop_duplicates()\n",
    "    df = df.drop(['arrival_date'], axis=1)\n",
    "    \n",
    "    df['total_of_special_requests'] = df['total_of_special_requests'].fillna(0.0)\n",
    "    df['deposit_type'] = df['deposit_type'].fillna('No_Deposit')\n",
    "    df['children'] = df['children'].apply(lambda x: 1 if x=='children' else 0)\n",
    "    df['required_car_parking_spaces'] = df['required_car_parking_spaces'].apply(lambda x: 1 if x==\"parking\" else 0)\n",
    "    df['previous_bookings_not_canceled'] = df['previous_bookings_not_canceled'].apply(lambda x: 30 if x>=30 else x)\n",
    "    \n",
    "    dummy = pd.get_dummies(df[obj_list])\n",
    "    df = df.drop(obj_list, axis=1)\n",
    "    \n",
    "    df = pd.concat([df, dummy], axis=1)\n",
    "    \n",
    "    return df"
   ]
  },
  {
   "cell_type": "code",
   "execution_count": 14,
   "id": "c7e97f7e",
   "metadata": {},
   "outputs": [],
   "source": [
    "def standardize(df, int_list):\n",
    "    \n",
    "    scaler = StandardScaler()\n",
    "    df[int_list]  = scaler.fit_transform(df[int_list])\n",
    "    \n",
    "    return df"
   ]
  },
  {
   "cell_type": "code",
   "execution_count": 15,
   "id": "dfda6587",
   "metadata": {},
   "outputs": [],
   "source": [
    "obj_list = ['hotel','meal','country','market_segment','distribution_channel','reserved_room_type',\n",
    "                'assigned_room_type', 'deposit_type', 'customer_type']\n",
    "int_list = ['lead_time', 'stays_in_weekend_nights', 'stays_in_week_nights',\n",
    "           'adults', 'previous_cancellations', 'previous_bookings_not_canceled',\n",
    "           'booking_changes', 'days_in_waiting_list', 'average_daily_rate',\n",
    "            'total_of_special_requests']\n",
    "\n",
    "df_clean = preprocessing(df, obj_list)\n",
    "df_scale = standardize(df_clean, int_list)"
   ]
  },
  {
   "cell_type": "code",
   "execution_count": 16,
   "id": "15617603",
   "metadata": {},
   "outputs": [
    {
     "data": {
      "text/html": [
       "<div>\n",
       "<style scoped>\n",
       "    .dataframe tbody tr th:only-of-type {\n",
       "        vertical-align: middle;\n",
       "    }\n",
       "\n",
       "    .dataframe tbody tr th {\n",
       "        vertical-align: top;\n",
       "    }\n",
       "\n",
       "    .dataframe thead th {\n",
       "        text-align: right;\n",
       "    }\n",
       "</style>\n",
       "<table border=\"1\" class=\"dataframe\">\n",
       "  <thead>\n",
       "    <tr style=\"text-align: right;\">\n",
       "      <th></th>\n",
       "      <th>lead_time</th>\n",
       "      <th>stays_in_weekend_nights</th>\n",
       "      <th>stays_in_week_nights</th>\n",
       "      <th>adults</th>\n",
       "      <th>children</th>\n",
       "      <th>is_repeated_guest</th>\n",
       "      <th>previous_cancellations</th>\n",
       "      <th>previous_bookings_not_canceled</th>\n",
       "      <th>booking_changes</th>\n",
       "      <th>days_in_waiting_list</th>\n",
       "      <th>...</th>\n",
       "      <th>assigned_room_type_H</th>\n",
       "      <th>assigned_room_type_I</th>\n",
       "      <th>assigned_room_type_K</th>\n",
       "      <th>deposit_type_No_Deposit</th>\n",
       "      <th>deposit_type_Non_Refund</th>\n",
       "      <th>deposit_type_Refundable</th>\n",
       "      <th>customer_type_Contract</th>\n",
       "      <th>customer_type_Group</th>\n",
       "      <th>customer_type_Transient</th>\n",
       "      <th>customer_type_Transient-Party</th>\n",
       "    </tr>\n",
       "  </thead>\n",
       "  <tbody>\n",
       "    <tr>\n",
       "      <th>0</th>\n",
       "      <td>1.675977</td>\n",
       "      <td>0.045399</td>\n",
       "      <td>0.253669</td>\n",
       "      <td>0.31395</td>\n",
       "      <td>0</td>\n",
       "      <td>0</td>\n",
       "      <td>-0.060415</td>\n",
       "      <td>-0.130276</td>\n",
       "      <td>-0.404312</td>\n",
       "      <td>-0.08635</td>\n",
       "      <td>...</td>\n",
       "      <td>0</td>\n",
       "      <td>0</td>\n",
       "      <td>0</td>\n",
       "      <td>1</td>\n",
       "      <td>0</td>\n",
       "      <td>0</td>\n",
       "      <td>0</td>\n",
       "      <td>0</td>\n",
       "      <td>0</td>\n",
       "      <td>1</td>\n",
       "    </tr>\n",
       "    <tr>\n",
       "      <th>1</th>\n",
       "      <td>-0.847954</td>\n",
       "      <td>-0.954020</td>\n",
       "      <td>-0.767031</td>\n",
       "      <td>0.31395</td>\n",
       "      <td>0</td>\n",
       "      <td>0</td>\n",
       "      <td>-0.060415</td>\n",
       "      <td>-0.130276</td>\n",
       "      <td>-0.404312</td>\n",
       "      <td>-0.08635</td>\n",
       "      <td>...</td>\n",
       "      <td>0</td>\n",
       "      <td>0</td>\n",
       "      <td>1</td>\n",
       "      <td>1</td>\n",
       "      <td>0</td>\n",
       "      <td>0</td>\n",
       "      <td>0</td>\n",
       "      <td>0</td>\n",
       "      <td>1</td>\n",
       "      <td>0</td>\n",
       "    </tr>\n",
       "    <tr>\n",
       "      <th>2</th>\n",
       "      <td>0.243793</td>\n",
       "      <td>1.044819</td>\n",
       "      <td>1.274368</td>\n",
       "      <td>0.31395</td>\n",
       "      <td>0</td>\n",
       "      <td>0</td>\n",
       "      <td>-0.060415</td>\n",
       "      <td>-0.130276</td>\n",
       "      <td>2.223761</td>\n",
       "      <td>-0.08635</td>\n",
       "      <td>...</td>\n",
       "      <td>0</td>\n",
       "      <td>0</td>\n",
       "      <td>0</td>\n",
       "      <td>1</td>\n",
       "      <td>0</td>\n",
       "      <td>0</td>\n",
       "      <td>0</td>\n",
       "      <td>0</td>\n",
       "      <td>1</td>\n",
       "      <td>0</td>\n",
       "    </tr>\n",
       "    <tr>\n",
       "      <th>3</th>\n",
       "      <td>0.807276</td>\n",
       "      <td>1.044819</td>\n",
       "      <td>1.784718</td>\n",
       "      <td>0.31395</td>\n",
       "      <td>0</td>\n",
       "      <td>0</td>\n",
       "      <td>-0.060415</td>\n",
       "      <td>-0.130276</td>\n",
       "      <td>-0.404312</td>\n",
       "      <td>-0.08635</td>\n",
       "      <td>...</td>\n",
       "      <td>0</td>\n",
       "      <td>0</td>\n",
       "      <td>0</td>\n",
       "      <td>1</td>\n",
       "      <td>0</td>\n",
       "      <td>0</td>\n",
       "      <td>0</td>\n",
       "      <td>0</td>\n",
       "      <td>1</td>\n",
       "      <td>0</td>\n",
       "    </tr>\n",
       "    <tr>\n",
       "      <th>4</th>\n",
       "      <td>0.725101</td>\n",
       "      <td>0.045399</td>\n",
       "      <td>0.764019</td>\n",
       "      <td>0.31395</td>\n",
       "      <td>0</td>\n",
       "      <td>0</td>\n",
       "      <td>-0.060415</td>\n",
       "      <td>-0.130276</td>\n",
       "      <td>-0.404312</td>\n",
       "      <td>-0.08635</td>\n",
       "      <td>...</td>\n",
       "      <td>0</td>\n",
       "      <td>0</td>\n",
       "      <td>0</td>\n",
       "      <td>1</td>\n",
       "      <td>0</td>\n",
       "      <td>0</td>\n",
       "      <td>0</td>\n",
       "      <td>0</td>\n",
       "      <td>1</td>\n",
       "      <td>0</td>\n",
       "    </tr>\n",
       "    <tr>\n",
       "      <th>...</th>\n",
       "      <td>...</td>\n",
       "      <td>...</td>\n",
       "      <td>...</td>\n",
       "      <td>...</td>\n",
       "      <td>...</td>\n",
       "      <td>...</td>\n",
       "      <td>...</td>\n",
       "      <td>...</td>\n",
       "      <td>...</td>\n",
       "      <td>...</td>\n",
       "      <td>...</td>\n",
       "      <td>...</td>\n",
       "      <td>...</td>\n",
       "      <td>...</td>\n",
       "      <td>...</td>\n",
       "      <td>...</td>\n",
       "      <td>...</td>\n",
       "      <td>...</td>\n",
       "      <td>...</td>\n",
       "      <td>...</td>\n",
       "      <td>...</td>\n",
       "    </tr>\n",
       "    <tr>\n",
       "      <th>49995</th>\n",
       "      <td>1.147713</td>\n",
       "      <td>-0.954020</td>\n",
       "      <td>-0.256681</td>\n",
       "      <td>0.31395</td>\n",
       "      <td>1</td>\n",
       "      <td>0</td>\n",
       "      <td>-0.060415</td>\n",
       "      <td>-0.130276</td>\n",
       "      <td>0.909724</td>\n",
       "      <td>-0.08635</td>\n",
       "      <td>...</td>\n",
       "      <td>0</td>\n",
       "      <td>0</td>\n",
       "      <td>0</td>\n",
       "      <td>1</td>\n",
       "      <td>0</td>\n",
       "      <td>0</td>\n",
       "      <td>0</td>\n",
       "      <td>0</td>\n",
       "      <td>1</td>\n",
       "      <td>0</td>\n",
       "    </tr>\n",
       "    <tr>\n",
       "      <th>49996</th>\n",
       "      <td>-0.307950</td>\n",
       "      <td>-0.954020</td>\n",
       "      <td>0.764019</td>\n",
       "      <td>0.31395</td>\n",
       "      <td>0</td>\n",
       "      <td>0</td>\n",
       "      <td>-0.060415</td>\n",
       "      <td>-0.130276</td>\n",
       "      <td>2.223761</td>\n",
       "      <td>-0.08635</td>\n",
       "      <td>...</td>\n",
       "      <td>0</td>\n",
       "      <td>0</td>\n",
       "      <td>0</td>\n",
       "      <td>1</td>\n",
       "      <td>0</td>\n",
       "      <td>0</td>\n",
       "      <td>0</td>\n",
       "      <td>0</td>\n",
       "      <td>1</td>\n",
       "      <td>0</td>\n",
       "    </tr>\n",
       "    <tr>\n",
       "      <th>49997</th>\n",
       "      <td>0.948146</td>\n",
       "      <td>-0.954020</td>\n",
       "      <td>0.764019</td>\n",
       "      <td>0.31395</td>\n",
       "      <td>0</td>\n",
       "      <td>0</td>\n",
       "      <td>-0.060415</td>\n",
       "      <td>-0.130276</td>\n",
       "      <td>-0.404312</td>\n",
       "      <td>-0.08635</td>\n",
       "      <td>...</td>\n",
       "      <td>0</td>\n",
       "      <td>0</td>\n",
       "      <td>0</td>\n",
       "      <td>1</td>\n",
       "      <td>0</td>\n",
       "      <td>0</td>\n",
       "      <td>0</td>\n",
       "      <td>0</td>\n",
       "      <td>1</td>\n",
       "      <td>0</td>\n",
       "    </tr>\n",
       "    <tr>\n",
       "      <th>49998</th>\n",
       "      <td>0.772058</td>\n",
       "      <td>1.044819</td>\n",
       "      <td>1.274368</td>\n",
       "      <td>0.31395</td>\n",
       "      <td>0</td>\n",
       "      <td>0</td>\n",
       "      <td>-0.060415</td>\n",
       "      <td>-0.130276</td>\n",
       "      <td>-0.404312</td>\n",
       "      <td>-0.08635</td>\n",
       "      <td>...</td>\n",
       "      <td>0</td>\n",
       "      <td>0</td>\n",
       "      <td>0</td>\n",
       "      <td>1</td>\n",
       "      <td>0</td>\n",
       "      <td>0</td>\n",
       "      <td>0</td>\n",
       "      <td>0</td>\n",
       "      <td>1</td>\n",
       "      <td>0</td>\n",
       "    </tr>\n",
       "    <tr>\n",
       "      <th>49999</th>\n",
       "      <td>-0.730561</td>\n",
       "      <td>1.044819</td>\n",
       "      <td>-0.767031</td>\n",
       "      <td>0.31395</td>\n",
       "      <td>0</td>\n",
       "      <td>0</td>\n",
       "      <td>-0.060415</td>\n",
       "      <td>-0.130276</td>\n",
       "      <td>-0.404312</td>\n",
       "      <td>-0.08635</td>\n",
       "      <td>...</td>\n",
       "      <td>0</td>\n",
       "      <td>0</td>\n",
       "      <td>0</td>\n",
       "      <td>1</td>\n",
       "      <td>0</td>\n",
       "      <td>0</td>\n",
       "      <td>0</td>\n",
       "      <td>0</td>\n",
       "      <td>1</td>\n",
       "      <td>0</td>\n",
       "    </tr>\n",
       "  </tbody>\n",
       "</table>\n",
       "<p>45569 rows × 212 columns</p>\n",
       "</div>"
      ],
      "text/plain": [
       "       lead_time  stays_in_weekend_nights  stays_in_week_nights   adults  \\\n",
       "0       1.675977                 0.045399              0.253669  0.31395   \n",
       "1      -0.847954                -0.954020             -0.767031  0.31395   \n",
       "2       0.243793                 1.044819              1.274368  0.31395   \n",
       "3       0.807276                 1.044819              1.784718  0.31395   \n",
       "4       0.725101                 0.045399              0.764019  0.31395   \n",
       "...          ...                      ...                   ...      ...   \n",
       "49995   1.147713                -0.954020             -0.256681  0.31395   \n",
       "49996  -0.307950                -0.954020              0.764019  0.31395   \n",
       "49997   0.948146                -0.954020              0.764019  0.31395   \n",
       "49998   0.772058                 1.044819              1.274368  0.31395   \n",
       "49999  -0.730561                 1.044819             -0.767031  0.31395   \n",
       "\n",
       "       children  is_repeated_guest  previous_cancellations  \\\n",
       "0             0                  0               -0.060415   \n",
       "1             0                  0               -0.060415   \n",
       "2             0                  0               -0.060415   \n",
       "3             0                  0               -0.060415   \n",
       "4             0                  0               -0.060415   \n",
       "...         ...                ...                     ...   \n",
       "49995         1                  0               -0.060415   \n",
       "49996         0                  0               -0.060415   \n",
       "49997         0                  0               -0.060415   \n",
       "49998         0                  0               -0.060415   \n",
       "49999         0                  0               -0.060415   \n",
       "\n",
       "       previous_bookings_not_canceled  booking_changes  days_in_waiting_list  \\\n",
       "0                           -0.130276        -0.404312              -0.08635   \n",
       "1                           -0.130276        -0.404312              -0.08635   \n",
       "2                           -0.130276         2.223761              -0.08635   \n",
       "3                           -0.130276        -0.404312              -0.08635   \n",
       "4                           -0.130276        -0.404312              -0.08635   \n",
       "...                               ...              ...                   ...   \n",
       "49995                       -0.130276         0.909724              -0.08635   \n",
       "49996                       -0.130276         2.223761              -0.08635   \n",
       "49997                       -0.130276        -0.404312              -0.08635   \n",
       "49998                       -0.130276        -0.404312              -0.08635   \n",
       "49999                       -0.130276        -0.404312              -0.08635   \n",
       "\n",
       "       ...  assigned_room_type_H  assigned_room_type_I  assigned_room_type_K  \\\n",
       "0      ...                     0                     0                     0   \n",
       "1      ...                     0                     0                     1   \n",
       "2      ...                     0                     0                     0   \n",
       "3      ...                     0                     0                     0   \n",
       "4      ...                     0                     0                     0   \n",
       "...    ...                   ...                   ...                   ...   \n",
       "49995  ...                     0                     0                     0   \n",
       "49996  ...                     0                     0                     0   \n",
       "49997  ...                     0                     0                     0   \n",
       "49998  ...                     0                     0                     0   \n",
       "49999  ...                     0                     0                     0   \n",
       "\n",
       "       deposit_type_No_Deposit  deposit_type_Non_Refund  \\\n",
       "0                            1                        0   \n",
       "1                            1                        0   \n",
       "2                            1                        0   \n",
       "3                            1                        0   \n",
       "4                            1                        0   \n",
       "...                        ...                      ...   \n",
       "49995                        1                        0   \n",
       "49996                        1                        0   \n",
       "49997                        1                        0   \n",
       "49998                        1                        0   \n",
       "49999                        1                        0   \n",
       "\n",
       "       deposit_type_Refundable  customer_type_Contract  customer_type_Group  \\\n",
       "0                            0                       0                    0   \n",
       "1                            0                       0                    0   \n",
       "2                            0                       0                    0   \n",
       "3                            0                       0                    0   \n",
       "4                            0                       0                    0   \n",
       "...                        ...                     ...                  ...   \n",
       "49995                        0                       0                    0   \n",
       "49996                        0                       0                    0   \n",
       "49997                        0                       0                    0   \n",
       "49998                        0                       0                    0   \n",
       "49999                        0                       0                    0   \n",
       "\n",
       "       customer_type_Transient  customer_type_Transient-Party  \n",
       "0                            0                              1  \n",
       "1                            1                              0  \n",
       "2                            1                              0  \n",
       "3                            1                              0  \n",
       "4                            1                              0  \n",
       "...                        ...                            ...  \n",
       "49995                        1                              0  \n",
       "49996                        1                              0  \n",
       "49997                        1                              0  \n",
       "49998                        1                              0  \n",
       "49999                        1                              0  \n",
       "\n",
       "[45569 rows x 212 columns]"
      ]
     },
     "execution_count": 16,
     "metadata": {},
     "output_type": "execute_result"
    }
   ],
   "source": [
    "df_scale"
   ]
  },
  {
   "cell_type": "markdown",
   "id": "6ac82f20",
   "metadata": {},
   "source": [
    "## Modeling"
   ]
  },
  {
   "cell_type": "code",
   "execution_count": 20,
   "id": "e3cf8562",
   "metadata": {},
   "outputs": [
    {
     "name": "stdout",
     "output_type": "stream",
     "text": [
      "[0.90818933 0.91600301 0.90879038 0.90848986 0.91299775 0.91224643\n",
      " 0.90353118 0.90924117 0.90351668 0.91238353]\n"
     ]
    }
   ],
   "source": [
    "X = df_scale.drop(['children'], axis=1)\n",
    "y = df_scale['children']\n",
    "\n",
    "X_train, X_valid, y_train, y_valid = train_test_split(X, y, test_size=0.2,random_state=42)\n",
    "oversamp = SMOTE()\n",
    "X_train_upsamp, y_train_upsamp = oversamp.fit_resample(X_train, y_train)\n",
    "\n",
    "cv = KFold(n_splits=10, random_state=42, shuffle=True)\n",
    "model = lr()\n",
    "scores = cross_val_score(model, X_train_upsamp, y_train_upsamp, scoring='f1_micro', cv=cv, n_jobs=-1)\n",
    "print(scores)"
   ]
  },
  {
   "cell_type": "code",
   "execution_count": 21,
   "id": "62b5c53d",
   "metadata": {},
   "outputs": [
    {
     "name": "stderr",
     "output_type": "stream",
     "text": [
      "/Users/panja/opt/anaconda3/envs/rnd/lib/python3.7/site-packages/sklearn/linear_model/_logistic.py:765: ConvergenceWarning: lbfgs failed to converge (status=1):\n",
      "STOP: TOTAL NO. of ITERATIONS REACHED LIMIT.\n",
      "\n",
      "Increase the number of iterations (max_iter) or scale the data as shown in:\n",
      "    https://scikit-learn.org/stable/modules/preprocessing.html\n",
      "Please also refer to the documentation for alternative solver options:\n",
      "    https://scikit-learn.org/stable/modules/linear_model.html#logistic-regression\n",
      "  extra_warning_msg=_LOGISTIC_SOLVER_CONVERGENCE_MSG)\n"
     ]
    },
    {
     "data": {
      "text/plain": [
       "LogisticRegression()"
      ]
     },
     "execution_count": 21,
     "metadata": {},
     "output_type": "execute_result"
    }
   ],
   "source": [
    "model.fit(X_train_upsamp, y_train_upsamp)"
   ]
  },
  {
   "cell_type": "code",
   "execution_count": 22,
   "id": "0991692a",
   "metadata": {},
   "outputs": [
    {
     "name": "stdout",
     "output_type": "stream",
     "text": [
      "Accuracy: 0.9105\n",
      "\n",
      "Confusion matrix:\n",
      "[[31799  1475]\n",
      " [ 4478 28796]]\n",
      "\n",
      "F1 score is: 0.9063\n"
     ]
    }
   ],
   "source": [
    "#train set result\n",
    "threshold = 0.5\n",
    "predictions = model.predict_proba(X_train_upsamp)[:,1]\n",
    "predictions = (predictions > threshold).astype(int)\n",
    "\n",
    "print('Accuracy: {:.4f}\\n'.format(metrics.accuracy_score(y_train_upsamp, predictions)))\n",
    "print('Confusion matrix:\\n{}\\n'.format(metrics.confusion_matrix(y_train_upsamp, predictions)))\n",
    "print('F1 score is: {:.4f}'.format(metrics.f1_score(y_train_upsamp, predictions)))"
   ]
  },
  {
   "cell_type": "code",
   "execution_count": 23,
   "id": "f7b5f883",
   "metadata": {},
   "outputs": [
    {
     "name": "stdout",
     "output_type": "stream",
     "text": [
      "Accuracy: 0.9129\n",
      "\n",
      "Confusion matrix:\n",
      "[[7922  363]\n",
      " [ 431  398]]\n",
      "\n",
      "F1 score is: 0.5006\n"
     ]
    }
   ],
   "source": [
    "#test set result\n",
    "threshold_up = 0.5\n",
    "predictions_up = model.predict_proba(X_valid)[:,1]\n",
    "predictions_up = (predictions_up > threshold_up).astype(int)\n",
    "\n",
    "print('Accuracy: {:.4f}\\n'.format(metrics.accuracy_score(y_valid, predictions_up)))\n",
    "print('Confusion matrix:\\n{}\\n'.format(metrics.confusion_matrix(y_valid, predictions_up)))\n",
    "print('F1 score is: {:.4f}'.format(metrics.f1_score(y_valid, predictions_up)))"
   ]
  },
  {
   "cell_type": "code",
   "execution_count": 24,
   "id": "d4eac771",
   "metadata": {},
   "outputs": [
    {
     "data": {
      "image/png": "[encoded data removed]",
      "text/plain": [
       "<Figure size 432x288 with 1 Axes>"
      ]
     },
     "metadata": {
      "needs_background": "light"
     },
     "output_type": "display_data"
    }
   ],
   "source": [
    "fig, ax = plt.subplots()\n",
    "sns.kdeplot(x = predictions, hue = y_train_upsamp)\n",
    "ax.axvline(0.5, ls='--')\n",
    "ax.set_title('Propensity Score')\n",
    "plt.show()"
   ]
  },
  {
   "cell_type": "code",
   "execution_count": 25,
   "id": "6a37f270",
   "metadata": {},
   "outputs": [
    {
     "data": {
      "image/png": "[encoded data removed]",
      "text/plain": [
       "<Figure size 432x288 with 1 Axes>"
      ]
     },
     "metadata": {
      "needs_background": "light"
     },
     "output_type": "display_data"
    }
   ],
   "source": [
    "fig, ax = plt.subplots()\n",
    "sns.kdeplot(x = predictions_up, hue = y_valid)\n",
    "ax.axvline(0.5, ls='--')\n",
    "ax.set_title('Propensity Score')\n",
    "plt.show()"
   ]
  },
  {
   "cell_type": "code",
   "execution_count": null,
   "id": "65160230",
   "metadata": {},
   "outputs": [],
   "source": []
  }
 ],
 "metadata": {
  "kernelspec": {
   "display_name": "Python 3",
   "language": "python",
   "name": "python3"
  },
  "language_info": {
   "codemirror_mode": {
    "name": "ipython",
    "version": 3
   },
   "file_extension": ".py",
   "mimetype": "text/x-python",
   "name": "python",
   "nbconvert_exporter": "python",
   "pygments_lexer": "ipython3",
   "version": "3.7.10"
  }
 },
 "nbformat": 4,
 "nbformat_minor": 5
}
